{
 "nbformat": 4,
 "nbformat_minor": 0,
 "metadata": {
  "colab": {
   "provenance": []
  },
  "kernelspec": {
   "name": "python3",
   "display_name": "Python 3"
  },
  "language_info": {
   "name": "python"
  }
 },
 "cells": [
  {
   "cell_type": "markdown",
   "source": [
    "# Umwandlung Videos in Slides\n"
   ],
   "metadata": {
    "id": "dfibQ0TA-E1q"
   }
  },
  {
   "cell_type": "code",
   "source": [
    "!git clone https://github.com/TheDataDudeDE/video2pdf.git"
   ],
   "metadata": {
    "colab": {
     "base_uri": "https://localhost:8080/"
    },
    "id": "ZwhpdRZ1KFHW",
    "outputId": "38200572-baaa-40c8-c6ad-3d9d1d0c4eb3"
   },
   "execution_count": 21,
   "outputs": [
    {
     "output_type": "stream",
     "name": "stdout",
     "text": [
      "usage: video_path\n",
      "       [-h]\n",
      "       video_path\n",
      "       output_path\n",
      "video_path: error: unrecognized arguments: /Woche1/Arab0_1.mp4 /content/drive/MyDrive/Islam/Alimiyyah Studium/Arabisch /Woche1\n"
     ]
    }
   ]
  },
  {
   "cell_type": "code",
   "source": [
    "filename = 'Arab0_1.mp4'\n",
    "woche = 'Woche1'\n",
    "inputfolder = f\"/content/drive/MyDrive/Islam/Alimiyyah Studium/Arabisch /{woche}/{filename}\"\n",
    "\n",
    "print(inputfolder)"
   ],
   "metadata": {
    "colab": {
     "base_uri": "https://localhost:8080/"
    },
    "id": "RX0L9Kx0AOqT",
    "outputId": "94b59a7c-debd-460b-f06c-f73c877d356f"
   },
   "execution_count": 6,
   "outputs": [
    {
     "output_type": "stream",
     "name": "stdout",
     "text": [
      "/content/drive/MyDrive/Islam/Alimiyyah Studium/Arabisch /Woche1/Arab0_1.mp4\n"
     ]
    }
   ]
  },
  {
   "cell_type": "code",
   "source": [
    "!python video2pdf/video2pdfslides.py video2pdf $inputfolder"
   ],
   "metadata": {
    "colab": {
     "base_uri": "https://localhost:8080/"
    },
    "id": "Qwb1XQ64AS3D",
    "outputId": "f1ed53a0-0aa9-4607-ec57-e4414a32e871"
   },
   "execution_count": 5,
   "outputs": [
    {
     "output_type": "stream",
     "name": "stdout",
     "text": [
      "video_path video2pdf/input/Test Video 1.mp4\n",
      "initialized output folder video2pdf/input/Test Video 1\n",
      "screenshot path video2pdf/input/Test Video 1\n",
      "total_frames:  7748.0\n",
      "FRAME_RATE 1\n",
      "saving video2pdf/input/Test Video 1/000_0.03.png\n",
      "saving video2pdf/input/Test Video 1/001_0.28.png\n",
      "saving video2pdf/input/Test Video 1/002_1.92.png\n",
      "saving video2pdf/input/Test Video 1/003_3.22.png\n",
      "4 screenshots Captured!\n",
      "Time taken 64.65842485427856s\n",
      "Please Manually verify screenshots and delete duplicates\n",
      "Press y to continue and n to terminatey\n",
      "output_folder_screenshot_path video2pdf/input/Test Video 1\n",
      "output_pdf_path video2pdf/input/Test Video 1.pdf\n",
      "converting images to pdf..\n",
      "Pdf Created!\n",
      "pdf saved at video2pdf/input/Test Video 1.pdf\n"
     ]
    }
   ]
  }
 ]
}
